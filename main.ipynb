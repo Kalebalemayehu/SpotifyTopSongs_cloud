{
 "cells": [
  {
   "cell_type": "markdown",
   "metadata": {},
   "source": [
    "## Imports"
   ]
  },
  {
   "cell_type": "code",
   "execution_count": null,
   "metadata": {},
   "outputs": [],
   "source": [
    "import requests\n",
    "import base64\n",
    "from dotenv import load_dotenv\n",
    "import os\n",
    "from spotify import Spotify"
   ]
  },
  {
   "cell_type": "markdown",
   "metadata": {},
   "source": [
    "## Setup\n",
    "- Auth and Access Token\n",
    "- Header with Token"
   ]
  },
  {
   "cell_type": "code",
   "execution_count": null,
   "metadata": {},
   "outputs": [],
   "source": [
    "# loads API access\n",
    "load_dotenv()\n",
    "\n",
    "cid = os.getenv(\"CLIENT_ID\")\n",
    "secret = os.getenv(\"CLIENT_SECRET\")"
   ]
  },
  {
   "cell_type": "code",
   "execution_count": null,
   "metadata": {},
   "outputs": [],
   "source": [
    "# Gets access token\n",
    "def get_token():\n",
    "    auth_string = f\"{cid}:{secret}\"\n",
    "    base64_auth_string = base64.b64encode(auth_string.encode('utf-8')).decode('utf-8')\n",
    "\n",
    "    authOptions = {\n",
    "    'url': 'https://accounts.spotify.com/api/token',\n",
    "    'headers': {\n",
    "        'Authorization': 'Basic ' + base64_auth_string,\n",
    "        'Content-type': 'application/x-www-form-urlencoded'\n",
    "        },\n",
    "    'data': {\n",
    "        'grant_type': 'client_credentials'\n",
    "        }\n",
    "    }\n",
    "\n",
    "    response = requests.post(authOptions['url'], headers=authOptions['headers'], data=authOptions['data'])\n",
    "\n",
    "    if response.status_code == 200:\n",
    "        data = response.json()\n",
    "        token = data['access_token']\n",
    "        return token"
   ]
  },
  {
   "cell_type": "code",
   "execution_count": null,
   "metadata": {},
   "outputs": [],
   "source": [
    "token = get_token()"
   ]
  },
  {
   "cell_type": "markdown",
   "metadata": {},
   "source": [
    "## Methods"
   ]
  },
  {
   "cell_type": "code",
   "execution_count": null,
   "metadata": {},
   "outputs": [],
   "source": [
    "sp = Spotify(token)"
   ]
  },
  {
   "cell_type": "code",
   "execution_count": null,
   "metadata": {},
   "outputs": [],
   "source": [
    "sp.search_for_artist(\"Drake\")"
   ]
  }
 ],
 "metadata": {
  "kernelspec": {
   "display_name": "Python 3",
   "language": "python",
   "name": "python3"
  },
  "language_info": {
   "codemirror_mode": {
    "name": "ipython",
    "version": 3
   },
   "file_extension": ".py",
   "mimetype": "text/x-python",
   "name": "python",
   "nbconvert_exporter": "python",
   "pygments_lexer": "ipython3",
   "version": "3.8.8"
  },
  "orig_nbformat": 4
 },
 "nbformat": 4,
 "nbformat_minor": 2
}
