{
 "cells": [
  {
   "cell_type": "code",
   "execution_count": 2,
   "metadata": {},
   "outputs": [
    {
     "name": "stdout",
     "output_type": "stream",
     "text": [
      "Requirement already satisfied: waitress in /Library/Frameworks/Python.framework/Versions/3.10/lib/python3.10/site-packages (2.1.2)\n",
      "Note: you may need to restart the kernel to use updated packages.\n"
     ]
    }
   ],
   "source": [
    "pip install waitress"
   ]
  },
  {
   "cell_type": "markdown",
   "metadata": {},
   "source": [
    "## Imports"
   ]
  },
  {
   "cell_type": "code",
   "execution_count": 16,
   "metadata": {},
   "outputs": [
    {
     "data": {
      "text/plain": [
       "True"
      ]
     },
     "execution_count": 16,
     "metadata": {},
     "output_type": "execute_result"
    }
   ],
   "source": [
    "from dotenv import load_dotenv\n",
    "from waitress import *\n",
    "import os\n",
    "from spotify import *\n",
    "from IPython.display import Image\n",
    "from flask import *\n",
    "import json\n",
    "\n",
    "# Load environment variables from the .env file\n",
    "load_dotenv()"
   ]
  },
  {
   "cell_type": "markdown",
   "metadata": {},
   "source": [
    "## Setup\n",
    "- Auth and Access Token\n",
    "- Header with Token"
   ]
  },
  {
   "cell_type": "code",
   "execution_count": 18,
   "metadata": {},
   "outputs": [],
   "source": [
    "cid = os.getenv(\"CLIENT_ID\")\n",
    "secret = os.getenv(\"CLIENT_SECRET\")"
   ]
  },
  {
   "cell_type": "code",
   "execution_count": 3,
   "metadata": {},
   "outputs": [
    {
     "name": "stdout",
     "output_type": "stream",
     "text": [
      "a6d8a494423946cbb0d531eed91606b1\n",
      "c0a61fee2fa646588bdeb4ab275251c8\n"
     ]
    }
   ],
   "source": [
    "print(cid)\n",
    "print(secret)"
   ]
  },
  {
   "cell_type": "code",
   "execution_count": 27,
   "metadata": {},
   "outputs": [
    {
     "name": "stdout",
     "output_type": "stream",
     "text": [
      "<spotify.Spotify object at 0x124ccad70>\n"
     ]
    }
   ],
   "source": [
    "sp = Spotify(client_id=cid, client_secret=secret)\n",
    "print(sp)"
   ]
  },
  {
   "cell_type": "code",
   "execution_count": 28,
   "metadata": {},
   "outputs": [],
   "source": [
    "## get host from link in browser\n",
    "## comes after ..code=...\n",
    "my_code = \"AQBiVG9N8lZE0pSbqdU10DQrULzlZZM6ioRp56LslVFSWiZoDzEx9ICd-fNnUe9ElF4hxE8nPFFY1ZzWWR9proW4RQ6Amey_kD_tRzgp7ot9coNLGFi9B3rCne5qgtTESppYE0Z3Mhwx_FeoxomDlwMyX_R9991BfczzDDXuDUxqmiP8iYRhnhRZ-BfzgsVMbg\""
   ]
  },
  {
   "cell_type": "code",
   "execution_count": 29,
   "metadata": {},
   "outputs": [],
   "source": [
    "## Load the code into the object, and get API Token\n",
    "sp.load_code(my_code)"
   ]
  },
  {
   "cell_type": "markdown",
   "metadata": {},
   "source": [
    "## Methods"
   ]
  },
  {
   "cell_type": "code",
   "execution_count": 31,
   "metadata": {},
   "outputs": [
    {
     "data": {
      "text/plain": [
       "'Weekend, WEEDMANE, Wegdayit'"
      ]
     },
     "execution_count": 31,
     "metadata": {},
     "output_type": "execute_result"
    }
   ],
   "source": [
    "sp.search_for_artist(\"wegdayt\")"
   ]
  },
  {
   "cell_type": "code",
   "execution_count": 32,
   "metadata": {},
   "outputs": [],
   "source": [
    "sp.my_profile()\n",
    "profile = sp.my_profile()\n",
    "Image(url = profile['ProfilePicture'])\n",
    "name = profile['Name']\n",
    "\n",
    "\n"
   ]
  },
  {
   "cell_type": "code",
   "execution_count": 9,
   "metadata": {},
   "outputs": [
    {
     "data": {
      "text/plain": [
       "'Kaleb Alemayehu'"
      ]
     },
     "execution_count": 9,
     "metadata": {},
     "output_type": "execute_result"
    }
   ],
   "source": [
    "name"
   ]
  },
  {
   "cell_type": "code",
   "execution_count": 10,
   "metadata": {},
   "outputs": [
    {
     "data": {
      "text/plain": [
       "{'Desse Lay': 'Various Artists',\n",
       " 'Kidus Michael (feat. Zemarit Mirtnesh Tilahun)': 'Orthodox Tewahedo',\n",
       " 'Anurognal Cherinetih (feat. Zemarit Mirtnesh Tilahun)': 'Orthodox Tewahedo',\n",
       " 'Komkugne (feat. Artist Yegerem Dejene & Deacon Adugna Fikadu)': 'Orthodox Tewahedo',\n",
       " 'Berta': 'Yohana',\n",
       " 'Yethiopia Amlak': 'Zerubabbel Molla',\n",
       " 'Behager New': 'Zerubabbel Molla',\n",
       " 'Babure': 'Lafonte',\n",
       " 'ጥቁር አንበሳ/Tikur Anbessa': 'Dagmawi Wube',\n",
       " 'Money Trees': 'Kendrick Lamar',\n",
       " 'Ele Yaba': 'Various Artists',\n",
       " 'Kunjina': 'Dawit Mellesse',\n",
       " 'Yefikir Gedam': 'Neway Debebe',\n",
       " 'Salayish': 'Nhatty Man',\n",
       " 'Becky': 'Aminé',\n",
       " 'Champagne Shots': 'Sainté',\n",
       " 'Koya Babo': 'Gossaye Tesfaye',\n",
       " 'BeEfrata (feat. Artist Yegerem Dejene & Deacon Adugna Fikadu)': 'Orthodox Tewahedo',\n",
       " 'Yeneoh Kalkidan (feat. Zemarit Mirtnesh Tilahun)': 'Orthodox Tewahedo',\n",
       " 'I Faram Gami, I Faram': 'Jemberu Demeke'}"
      ]
     },
     "execution_count": 10,
     "metadata": {},
     "output_type": "execute_result"
    }
   ],
   "source": [
    "sp.my_top_songs(\"long_term\")"
   ]
  },
  {
   "cell_type": "code",
   "execution_count": 33,
   "metadata": {},
   "outputs": [
    {
     "name": "stdout",
     "output_type": "stream",
     "text": [
      "Top songs data saved to user_music_data.json\n"
     ]
    }
   ],
   "source": [
    "\n",
    " \n",
    "\n",
    "\n",
    "user_music = {}  # Initialize an empty dictionary to store the data\n",
    "periods = [\"short_term\", \"medium_term\", \"long_term\"]\n",
    "\n",
    "for period in periods:\n",
    "    top_songs_data = sp.my_top_songs(period)\n",
    "    user_music[period] = top_songs_data\n",
    "\n",
    "\n",
    "# Write the data to a JSON file\n",
    "with open('user_music_data.json', 'w') as json_file:\n",
    "    json.dump(user_music, json_file, indent=4)\n",
    "\n",
    "print(\"Top songs data saved to user_music_data.json\")\n"
   ]
  },
  {
   "cell_type": "code",
   "execution_count": 34,
   "metadata": {},
   "outputs": [
    {
     "data": {
      "text/plain": [
       "{'short_term': {'Tsebeluan': 'Wegdayit',\n",
       "  'Entonei': 'Wegdayit',\n",
       "  'Bedenkuane': 'Like Mezemeran Tewodros Yoseph',\n",
       "  'For All That He Has Done': 'Ahadu Studios',\n",
       "  'Yemanesh Ayinama': 'Hailu Mergia',\n",
       "  'Wede Harer Guzo': 'Hailu Mergia',\n",
       "  'Geteru Bete': 'Wegdayit',\n",
       "  'Melody of Yared - Instrumental': 'Ahadu Studios',\n",
       "  'Bati Bati': 'Hailu Mergia',\n",
       "  'Endalehu Alehu': 'Wegdayit',\n",
       "  'Gelagay': 'Yohana',\n",
       "  'Alemegetatem': 'Wegdayit',\n",
       "  'Shirolat': 'Wegdayit',\n",
       "  'Your Love Allured Me - Instrumental': 'Ahadu Studios',\n",
       "  'Praise the Trinity - Instrumental': 'Ahadu Studios',\n",
       "  'Esat Ena Wuha': 'Jemberu Demeke',\n",
       "  'Yefikir Engurguro': 'Hailu Mergia',\n",
       "  'Migibima Moltual': 'Hailu Mergia',\n",
       "  'Embuwa Bey Lamitu': 'Hailu Mergia',\n",
       "  'No Guarantee': 'Protoje'},\n",
       " 'medium_term': {'ጥቁር አንበሳ/Tikur Anbessa': 'Dagmawi Wube',\n",
       "  'Esat Ena Wuha': 'Jemberu Demeke',\n",
       "  'Gaichite': 'Misha Xramovi',\n",
       "  'I Faram Gami, I Faram': 'Jemberu Demeke',\n",
       "  'Bad Habits': 'Ed Sheeran',\n",
       "  'Ethiopia Hagre': 'Dawit Frew Hailu',\n",
       "  'WWE: The Time Is Now (John Cena)': 'WWE',\n",
       "  'Return to Sender': 'Elvis Presley',\n",
       "  'Eritrean Girl': 'Asmara All Stars',\n",
       "  'Melody of Yared - Instrumental': 'Ahadu Studios',\n",
       "  'Geteru Bete': 'Wegdayit',\n",
       "  'Praise the Trinity - Instrumental': 'Ahadu Studios',\n",
       "  'የተስፋ ድሃ/Ye Tesfa Deha': 'Dagmawi Wube',\n",
       "  'Tsebeluan': 'Wegdayit',\n",
       "  'Entonei': 'Wegdayit',\n",
       "  'Temar Lije': 'Alemayehu Eshete',\n",
       "  'Adera': 'Gossaye Tesfaye',\n",
       "  'Before the Most High - Instrumental': 'Ahadu Studios',\n",
       "  'Desse Lay': 'Various Artists',\n",
       "  'Ferrari': 'James Hype'},\n",
       " 'long_term': {'Desse Lay': 'Various Artists',\n",
       "  'Kidus Michael (feat. Zemarit Mirtnesh Tilahun)': 'Orthodox Tewahedo',\n",
       "  'Anurognal Cherinetih (feat. Zemarit Mirtnesh Tilahun)': 'Orthodox Tewahedo',\n",
       "  'Komkugne (feat. Artist Yegerem Dejene & Deacon Adugna Fikadu)': 'Orthodox Tewahedo',\n",
       "  'Berta': 'Yohana',\n",
       "  'Yethiopia Amlak': 'Zerubabbel Molla',\n",
       "  'Behager New': 'Zerubabbel Molla',\n",
       "  'Babure': 'Lafonte',\n",
       "  'ጥቁር አንበሳ/Tikur Anbessa': 'Dagmawi Wube',\n",
       "  'Money Trees': 'Kendrick Lamar',\n",
       "  'Kunjina': 'Dawit Mellesse',\n",
       "  'Ele Yaba': 'Various Artists',\n",
       "  'Yefikir Gedam': 'Neway Debebe',\n",
       "  'Salayish': 'Nhatty Man',\n",
       "  'Becky': 'Aminé',\n",
       "  'Champagne Shots': 'Sainté',\n",
       "  'Koya Babo': 'Gossaye Tesfaye',\n",
       "  'BeEfrata (feat. Artist Yegerem Dejene & Deacon Adugna Fikadu)': 'Orthodox Tewahedo',\n",
       "  'I Faram Gami, I Faram': 'Jemberu Demeke',\n",
       "  'Yeneoh Kalkidan (feat. Zemarit Mirtnesh Tilahun)': 'Orthodox Tewahedo'}}"
      ]
     },
     "execution_count": 34,
     "metadata": {},
     "output_type": "execute_result"
    }
   ],
   "source": [
    "user_music"
   ]
  },
  {
   "cell_type": "code",
   "execution_count": 13,
   "metadata": {},
   "outputs": [
    {
     "data": {
      "text/plain": [
       "{'Entonei': 'Wegdayit',\n",
       " 'Tsebeluan': 'Wegdayit',\n",
       " 'For All That He Has Done': 'Ahadu Studios',\n",
       " 'Wede Harer Guzo': 'Hailu Mergia',\n",
       " 'Yefikir Engurguro': 'Hailu Mergia',\n",
       " 'Gaichite': 'Misha Xramovi',\n",
       " 'Bedenkuane': 'Like Mezemeran Tewodros Yoseph',\n",
       " 'Shirolat': 'Wegdayit',\n",
       " 'Geteru Bete': 'Wegdayit',\n",
       " 'Yemanesh Ayinama': 'Hailu Mergia',\n",
       " 'Migibima Moltual': 'Hailu Mergia',\n",
       " 'Doja': 'Central Cee',\n",
       " 'Melody of Yared - Instrumental': 'Ahadu Studios',\n",
       " 'Levitating (feat. DaBaby)': 'Dua Lipa',\n",
       " 'ጥቁር አንበሳ/Tikur Anbessa': 'Dagmawi Wube',\n",
       " 'LET GO': 'Central Cee',\n",
       " 'Here We Go': 'Damian Marley',\n",
       " 'Gara ser nèw bétesh': 'Tèshomè Meteku',\n",
       " 'O Kidus Michael': 'Like Mezemeran Tewodros Yoseph',\n",
       " 'Praise the Trinity - Instrumental': 'Ahadu Studios'}"
      ]
     },
     "execution_count": 13,
     "metadata": {},
     "output_type": "execute_result"
    }
   ],
   "source": [
    "user_music[\"short_term\"]"
   ]
  },
  {
   "cell_type": "code",
   "execution_count": 35,
   "metadata": {},
   "outputs": [
    {
     "name": "stdout",
     "output_type": "stream",
     "text": [
      " * Serving Flask app '__main__'\n",
      " * Debug mode: off\n"
     ]
    },
    {
     "name": "stderr",
     "output_type": "stream",
     "text": [
      "\u001b[31m\u001b[1mWARNING: This is a development server. Do not use it in a production deployment. Use a production WSGI server instead.\u001b[0m\n",
      " * Running on http://127.0.0.1:5001\n",
      "\u001b[33mPress CTRL+C to quit\u001b[0m\n",
      "127.0.0.1 - - [20/Aug/2023 23:36:57] \"GET / HTTP/1.1\" 200 -\n",
      "127.0.0.1 - - [20/Aug/2023 23:36:57] \"GET /static/spotify-icon-png-15388.png HTTP/1.1\" 200 -\n",
      "127.0.0.1 - - [20/Aug/2023 23:36:57] \"\u001b[36mGET /static/styles.css HTTP/1.1\u001b[0m\" 304 -\n",
      "127.0.0.1 - - [20/Aug/2023 23:36:57] \"GET /get_top_songs/long_term HTTP/1.1\" 200 -\n",
      "127.0.0.1 - - [20/Aug/2023 23:37:01] \"GET /get_top_songs/medium_term HTTP/1.1\" 200 -\n",
      "127.0.0.1 - - [20/Aug/2023 23:37:04] \"GET /get_top_songs/short_term HTTP/1.1\" 200 -\n"
     ]
    }
   ],
   "source": [
    "from flask import Flask, render_template\n",
    "\n",
    "app = Flask(__name__)\n",
    "\n",
    "@app.route(\"/\")\n",
    "def index():\n",
    "\n",
    "\n",
    "@app.route(\"/user/<code>\")\n",
    "def user():\n",
    "    user_code = request.args.get('code')\n",
    "    sp.load_code(my_code)\n",
    "    return render_template('main.html', profile_picture=profile['ProfilePicture'], display_name=name)\n",
    "\n",
    "@app.route('/get_top_songs/<time_range>')\n",
    "def get_top_songs(time_range):\n",
    "    if time_range in user_music:\n",
    "        return jsonify(user_music[time_range])\n",
    "    else:\n",
    "        return jsonify({})\n",
    "\n",
    "if __name__ == \"__main__\":\n",
    "    app.run(port=5001)  # Use any available port\n",
    "\n"
   ]
  },
  {
   "cell_type": "code",
   "execution_count": null,
   "metadata": {},
   "outputs": [],
   "source": []
  }
 ],
 "metadata": {
  "kernelspec": {
   "display_name": "Python 3",
   "language": "python",
   "name": "python3"
  },
  "language_info": {
   "codemirror_mode": {
    "name": "ipython",
    "version": 3
   },
   "file_extension": ".py",
   "mimetype": "text/x-python",
   "name": "python",
   "nbconvert_exporter": "python",
   "pygments_lexer": "ipython3",
   "version": "3.10.0"
  },
  "orig_nbformat": 4
 },
 "nbformat": 4,
 "nbformat_minor": 2
}
